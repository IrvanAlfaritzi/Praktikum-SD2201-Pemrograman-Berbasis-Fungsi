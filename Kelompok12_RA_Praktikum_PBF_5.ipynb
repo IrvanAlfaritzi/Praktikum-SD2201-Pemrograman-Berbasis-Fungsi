{
  "nbformat": 4,
  "nbformat_minor": 0,
  "metadata": {
    "colab": {
      "provenance": []
    },
    "kernelspec": {
      "name": "python3",
      "display_name": "Python 3"
    },
    "language_info": {
      "name": "python"
    }
  },
  "cells": [
    {
      "cell_type": "code",
      "execution_count": 1,
      "metadata": {
        "id": "8t3DoTBaMg-h",
        "outputId": "478c144c-0166-4aed-b0b6-2174d6c6d5fd",
        "colab": {
          "base_uri": "https://localhost:8080/"
        }
      },
      "outputs": [
        {
          "output_type": "stream",
          "name": "stdout",
          "text": [
            "Total pengeluaran bulan ini (dengan memoization): 7000\n"
          ]
        }
      ],
      "source": [
        "def memoize(func):\n",
        "    cache = {}\n",
        "\n",
        "    def memoized_func(*args):\n",
        "        if any(not isinstance(arg, (int, float)) for arg in args):\n",
        "            raise TypeError(\"Arguments must be integers or floats.\")\n",
        "\n",
        "        if args not in cache:\n",
        "            cache[args] = func(*args)\n",
        "        return cache[args]\n",
        "\n",
        "    return memoized_func\n",
        "\n",
        "def hitung_total_pengeluaran(pengeluaran):\n",
        "    total = 0\n",
        "    for amount in pengeluaran:\n",
        "        total += amount\n",
        "    return total\n",
        "\n",
        "# Contoh penggunaan closure dan memoization\n",
        "hitung_total_pengeluaran_memoized = memoize(hitung_total_pengeluaran)\n",
        "\n",
        "# Data pengeluaran\n",
        "pengeluaran_bulan_ini = [1000, 1500, 2000, 2500]\n",
        "\n",
        "try:\n",
        "    # Menggunakan fungsi hitung_total_pengeluaran dengan memoization\n",
        "    print(\"Total pengeluaran bulan ini (dengan memoization):\",  hitung_total_pengeluaran(pengeluaran_bulan_ini))\n",
        "except TypeError as e:\n",
        "    print(\"Error:\", e)"
      ]
    },
    {
      "cell_type": "code",
      "source": [],
      "metadata": {
        "id": "HQhsuZURe7RU"
      },
      "execution_count": null,
      "outputs": []
    }
  ]
}