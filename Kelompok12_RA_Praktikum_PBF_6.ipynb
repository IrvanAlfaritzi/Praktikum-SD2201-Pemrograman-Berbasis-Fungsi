{
  "nbformat": 4,
  "nbformat_minor": 0,
  "metadata": {
    "colab": {
      "provenance": []
    },
    "kernelspec": {
      "name": "python3",
      "display_name": "Python 3"
    },
    "language_info": {
      "name": "python"
    }
  },
  "cells": [
    {
      "cell_type": "markdown",
      "source": [
        "PBF MODUL 6\n"
      ],
      "metadata": {
        "id": "keEugwezHtGB"
      }
    },
    {
      "cell_type": "code",
      "source": [
        "# Definisikan Higher Order Functions yang akan digunakan\n",
        "def multiply_by(factor):\n",
        "    def multiplier(number):\n",
        "        return number * factor\n",
        "    return multiplier\n",
        "\n",
        "def filter_by(criteria):\n",
        "    def filter_func(item):\n",
        "        return criteria(item)\n",
        "    return filter_func\n",
        "\n",
        "# Buat aplikasi pembelajaran yang skalabel dan mudah dikelola\n",
        "class Course:\n",
        "    def __init__(self, name, price, duration):\n",
        "        self.name = name\n",
        "        self.price = price\n",
        "        self.duration = duration\n",
        "\n",
        "    def __str__(self):\n",
        "        return f\"{self.name} ({self.duration} jam) - Rp {self.price}\"\n",
        "\n",
        "courses = [\n",
        "    Course(\"Python Programming\", 200000, 8),\n",
        "    Course(\"Web Development\", 300000, 10),\n",
        "    Course(\"Machine Learning\", 500000, 12),\n",
        "    Course(\"Data Science\", 400000, 10),\n",
        "]\n",
        "\n",
        "# Definisikan Higher Order Functions yang akan digunakan\n",
        "multiplier_func = multiply_by(0.9)  # Diskon 10%\n",
        "filtered_func = filter_by(lambda course: course.duration >= 10)  # Filter kursus dengan durasi 10 jam atau lebih\n",
        "\n",
        "# Menggunakan Higher Order Functions untuk manipulasi data kursus\n",
        "discounted_prices = map(multiplier_func, map(lambda course: course.price, courses))\n",
        "filtered_courses = filter(filtered_func, courses)\n",
        "\n",
        "# Menampilkan hasil\n",
        "print(\"Kursus yang telah didiskon:\")\n",
        "for course, discounted_price in zip(courses, discounted_prices):\n",
        "    course.price = discounted_price\n",
        "    print(course)\n",
        "\n",
        "print(\"\\nKursus dengan durasi 10 jam atau lebih:\")\n",
        "for course in filtered_courses:\n",
        "    print(course)\n"
      ],
      "metadata": {
        "colab": {
          "base_uri": "https://localhost:8080/"
        },
        "id": "OsHjVk1wI4sr",
        "outputId": "61a4896b-78ce-4430-db1e-32aba22c11b1"
      },
      "execution_count": 1,
      "outputs": [
        {
          "output_type": "stream",
          "name": "stdout",
          "text": [
            "Kursus yang telah didiskon:\n",
            "Python Programming (8 jam) - Rp 180000.0\n",
            "Web Development (10 jam) - Rp 270000.0\n",
            "Machine Learning (12 jam) - Rp 450000.0\n",
            "Data Science (10 jam) - Rp 360000.0\n",
            "\n",
            "Kursus dengan durasi 10 jam atau lebih:\n",
            "Web Development (10 jam) - Rp 270000.0\n",
            "Machine Learning (12 jam) - Rp 450000.0\n",
            "Data Science (10 jam) - Rp 360000.0\n"
          ]
        }
      ]
    }
  ]
}